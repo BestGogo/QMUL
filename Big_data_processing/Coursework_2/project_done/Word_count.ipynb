{
 "cells": [
  {
   "cell_type": "code",
   "execution_count": 1,
   "metadata": {
    "collapsed": true
   },
   "outputs": [],
   "source": [
    "from sklearn.cluster import KMeans\n",
    "import numpy as np\n",
    "from numpy import genfromtxt\n",
    "import matplotlib.pyplot as plt\n",
    "import matplotlib.patches as mpatches"
   ]
  },
  {
   "cell_type": "code",
   "execution_count": 2,
   "metadata": {
    "collapsed": false
   },
   "outputs": [
    {
     "data": {
      "text/plain": [
       "numpy.ndarray"
      ]
     },
     "execution_count": 2,
     "metadata": {},
     "output_type": "execute_result"
    }
   ],
   "source": [
    "X= genfromtxt('/home/qmul/plotthis.csv', delimiter=',')\n",
    "type(X)"
   ]
  },
  {
   "cell_type": "code",
   "execution_count": 3,
   "metadata": {
    "collapsed": false
   },
   "outputs": [
    {
     "data": {
      "text/plain": [
       "array([[  403.99538545],\n",
       "       [ 1575.86829599],\n",
       "       [ 5340.68103448]])"
      ]
     },
     "execution_count": 3,
     "metadata": {},
     "output_type": "execute_result"
    }
   ],
   "source": [
    "kmeans = KMeans(n_clusters=3, random_state=0).fit(X.reshape(-1,1))\n",
    "kmeans.cluster_centers_"
   ]
  },
  {
   "cell_type": "code",
   "execution_count": 4,
   "metadata": {
    "collapsed": false
   },
   "outputs": [
    {
     "name": "stdout",
     "output_type": "stream",
     "text": [
      "[[ 227.    0.]\n",
      " [ 513.    0.]\n",
      " [ 166.    0.]\n",
      " ..., \n",
      " [ 130.    0.]\n",
      " [ 333.    0.]\n",
      " [ 154.    0.]]\n"
     ]
    }
   ],
   "source": [
    "combined = np.vstack((X, kmeans.labels_)).T\n",
    "print(combined)"
   ]
  },
  {
   "cell_type": "code",
   "execution_count": 6,
   "metadata": {
    "collapsed": false
   },
   "outputs": [
    {
     "data": {
      "image/png": "[encoded data removed]",
      "text/plain": [
       "<matplotlib.figure.Figure at 0x7fb953246d68>"
      ]
     },
     "metadata": {},
     "output_type": "display_data"
    }
   ],
   "source": [
    "plt.scatter(combined[:,1], combined[:,0], c=combined[:,1], s=5)\n",
    "\n",
    "plt.ylabel('Number of words in accepted answer')\n",
    "plt.xlabel('Cluster number')\n",
    "\n",
    "yellow_patch = mpatches.Patch(color='khaki', label='The third cluster')\n",
    "green_patch = mpatches.Patch(color='cadetblue', label='The second cluster')\n",
    "purple_patch = mpatches.Patch(color='darkslateblue', label='The fisrt cluster')\n",
    "\n",
    "plt.legend(handles=[yellow_patch, green_patch, purple_patch])\n",
    "\n",
    "plt.show()"
   ]
  },
  {
   "cell_type": "code",
   "execution_count": null,
   "metadata": {
    "collapsed": true
   },
   "outputs": [],
   "source": []
  }
 ],
 "metadata": {
  "kernelspec": {
   "display_name": "IPython (Python 3)",
   "language": "python",
   "name": "python3"
  },
  "language_info": {
   "codemirror_mode": {
    "name": "ipython",
    "version": 3
   },
   "file_extension": ".py",
   "mimetype": "text/x-python",
   "name": "python",
   "nbconvert_exporter": "python",
   "pygments_lexer": "ipython3",
   "version": "3.5.3"
  }
 },
 "nbformat": 4,
 "nbformat_minor": 2
}
